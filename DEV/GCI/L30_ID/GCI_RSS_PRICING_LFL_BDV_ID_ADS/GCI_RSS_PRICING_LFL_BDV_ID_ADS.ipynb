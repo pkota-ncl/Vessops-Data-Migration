{
 "metadata": {
  "kernelspec": {
   "display_name": "Streamlit Notebook",
   "name": "streamlit"
  },
  "lastEditStatus": {
   "notebookId": "rt4s5nz4pu5bv6xwdz2v",
   "authorId": "6893705921972",
   "authorName": "PKORUPOLU",
   "authorEmail": "pkorupolu@ncl.com",
   "sessionId": "f9effae9-3443-4e74-b4b0-96008a163585",
   "lastEditTime": 1756480034787
  }
 },
 "nbformat_minor": 5,
 "nbformat": 4,
 "cells": [
  {
   "cell_type": "markdown",
   "id": "3d4fb979-b9c6-4e7f-8eb2-16ecb01c38d3",
   "metadata": {
    "name": "cell5",
    "collapsed": false
   },
   "source": "Description : This script truncates and reloads the target identification table \n              (VESSOPS_D.L30_ID.GCI_NCH_PRICING_LFL) from the source BDV satellite table \n              (VESSOPS_D.L20_BDV.SAT_GCI_RSS_CONSUMPTION_PRICING_LFL). \n              It standardizes voyage-level competitor pricing data by mapping sailing, voyage, \n              brand, ship, region, cabin, and itinerary attributes. \n              The script also calculates a business key hash (HASH_DIFF) to capture changes, \n              ensuring uniqueness and consistency in downstream processing. \n              Metadata columns (LDTS, RCSR, LASTMODIFIED_BY) are added for lineage and auditing.\n\nAuthor      : Rakesh J (Mu-Sigma)\nDate        : 2025-08-26\n\nUpdates     : Nil\nDate        : Nil"
  },
  {
   "cell_type": "code",
   "id": "3775908f-ca36-4846-8f38-5adca39217f2",
   "metadata": {
    "language": "python",
    "name": "cell1"
   },
   "source": "# # Import python packages\n# import streamlit as st\n# import pandas as pd\n\n# We can also use Snowpark for our analyses!\nfrom snowflake.snowpark.context import get_active_session\nsession = get_active_session()\n",
   "execution_count": null,
   "outputs": []
  },
  {
   "cell_type": "markdown",
   "id": "d1c56b5a-e3b0-4c96-8e0b-70665e3f1b7e",
   "metadata": {
    "name": "cell4",
    "collapsed": false
   },
   "source": "## RSS_PRICING_LFL_BDV_ID"
  },
  {
   "cell_type": "code",
   "id": "8d50cbf4-0c8d-4950-86cb-114990437ac9",
   "metadata": {
    "language": "sql",
    "name": "cell2",
    "codeCollapsed": false
   },
   "source": "-- create or replace table VESSOPS_D.L30_ID.GCI_NCH_PRICING_LFL as \nTRUNCATE TABLE VESSOPS_D.L30_ID.GCI_NCH_PRICING_LFL;\n\nINSERT INTO VESSOPS_D.L30_ID.GCI_NCH_PRICING_LFL\nSELECT\n    COMPANY_ID,\n    SAIL_ID AS NCLH_SAILING_ID,\n    NCLH_UNI_VOYAGE_CODE AS GCI_VOYAGE_CODE,\n    BRAND_META_CATEGORY_DESC,\n    CRUISELINENAME_LFL AS BRAND_COMPETITOR,\n    SOURCESHIPNAME_LFL AS SHIP,\n    RSS_COMP_SAIL_ID AS COMP_SAIL_ID,\n    NCLH_UNI_VOYAGE_CODE_LFL AS GCI_VOYAGE_CODE_COMPETITOR,\n    ADV_WEEK_LFL as ADVANCE_WEEKS_TO_SAIL,\n    CabinType_LFL AS ORIGINAL_META,\n\n    /* ✅ Replace NULL TRANSLATED_META with 'UNKNOWN' */\n    COALESCE(RSS_CabinType_LFL, 'UNKNOWN') AS TRANSLATED_META,\n\n    TRADE_HIERARCHY1_LFL AS COMP_REGION_1,\n    TRADE_HIERARCHY2_LFL AS COMP_REGION_2,\n    TRADE_HIERARCHY3_LFL AS COMP_REGION_3,\n    CRUISEDURATION_LFL AS DURATION,\n    EMBARKATIONDATE_LFL AS DEPARTURE_DATE,\n    EMBARKATIONPORT_LFL AS EMBARK_PORT,\n    EMBARKATIONPORTUN_LOCODE_LFL AS EMBARK_PORT_UNLOCODE,\n    DisembarkationDate_LFL AS DISEMBARK_DATE,\n    DISEMBARKATIONPORT_LFL AS DISEMBARK_PORT,\n    DISEMBARKATIONPORTUN_LOCODE_LFL AS DISEMBARK_PORT_UNLOCODE,\n    TaxExclusiveRatePPD_LFL AS LEAD_TAX_EXCLUSIVE_PRICE_PPD,\n    TaxInclusiveRatePPD_LFL AS LEAD_TAX_INCLUSIVE_PRICE_PPD,\n    TaxExclusiveRatePP_LFL AS LEAD_TAX_EXCLUSIVE_RATE_PP,\n    TaxInclusiveRatePP_LFL AS LEAD_TAX_INCLUSIVE_RATE_PP,\n    TAXESANDFEESPPD_LFL AS LEAD_TAX_FEES_PPD,\n    TAXESANDFEESPP_LFL AS LEAD_TAX_FEES_PP,\n\n    /* ✅ Replace NULL currency with 'USD' */\n    COALESCE(SOURCECURRENCY_LFL, 'USD') AS CURRENCY,\n\n    RateInquiryDate_LFL AS SCRAPE_DATE,\n    CACHEPAGELINK_LFL AS CACHEPAGELINK,\n    ItineraryPortContent_LFL AS ITINERARY_PORT_CONTENT,\n    RSS_MD5_VOYAGE_HASH_KEY,\n\n    /* ✅ Ensure same COALESCE rules applied for HASH_DIFF */\n    MD5(\n        COALESCE(CAST(COMPANY_ID AS VARCHAR),'') || '|' ||\n        COALESCE(CAST(SAIL_ID AS VARCHAR),'') || '|' ||\n        COALESCE(NCLH_UNI_VOYAGE_CODE,'') || '|' ||\n        COALESCE(CRUISELINENAME_LFL,'') || '|' ||\n        COALESCE(SOURCESHIPNAME_LFL,'') || '|' ||\n        COALESCE(RSS_COMP_SAIL_ID,'') || '|' ||\n        COALESCE(NCLH_UNI_VOYAGE_CODE_LFL,'') || '|' ||\n        COALESCE(TRADE_HIERARCHY1_LFL,'') || '|' ||\n        COALESCE(TRADE_HIERARCHY2_LFL,'') || '|' ||\n        COALESCE(TRADE_HIERARCHY3_LFL,'') || '|' ||\n        COALESCE(CAST(CRUISEDURATION_LFL AS VARCHAR),'') || '|' ||\n        COALESCE(EMBARKATIONPORT_LFL,'') || '|' ||\n        COALESCE(EMBARKATIONPORTUN_LOCODE_LFL,'') || '|' ||\n        COALESCE(DISEMBARKATIONPORT_LFL,'') || '|' ||\n        COALESCE(DISEMBARKATIONPORTUN_LOCODE_LFL,'') || '|' ||\n        COALESCE(CAST(TaxExclusiveRatePPD_LFL AS VARCHAR),'') || '|' ||\n        COALESCE(CAST(TaxInclusiveRatePPD_LFL AS VARCHAR),'') || '|' ||\n        COALESCE(CAST(TaxExclusiveRatePP_LFL AS VARCHAR),'') || '|' ||\n        COALESCE(CAST(TaxInclusiveRatePP_LFL AS VARCHAR),'') || '|' ||\n        COALESCE(CAST(TAXESANDFEESPPD_LFL AS VARCHAR),'') || '|' ||\n        COALESCE(CAST(TAXESANDFEESPP_LFL AS VARCHAR),'') || '|' ||\n        COALESCE(SOURCECURRENCY_LFL, 'USD') || '|' ||              -- ✅ match currency fix\n        COALESCE(ItineraryPortContent_LFL,'') || '|' ||\n        COALESCE(RSS_CabinType_LFL, 'UNKNOWN')                      -- ✅ match translated meta fix\n    ) AS HASH_DIFF,\n\n    current_timestamp as LDTS,\n    RCSR,\n    current_user as LASTMODIFIED_BY\nFROM VESSOPS_D.L20_BDV.SAT_GCI_RSS_CONSUMPTION_PRICING_LFL;",
   "execution_count": null,
   "outputs": []
  },
  {
   "cell_type": "code",
   "id": "c695373e-ac74-4b62-a1f1-08206cbd5c81",
   "metadata": {
    "language": "python",
    "name": "cell3",
    "codeCollapsed": false
   },
   "source": "",
   "execution_count": null,
   "outputs": []
  }
 ]
}