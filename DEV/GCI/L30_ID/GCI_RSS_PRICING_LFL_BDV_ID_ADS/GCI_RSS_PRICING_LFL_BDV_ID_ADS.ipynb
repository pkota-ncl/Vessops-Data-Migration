{
 "metadata": {
  "kernelspec": {
   "display_name": "Streamlit Notebook",
   "name": "streamlit"
  },
  "lastEditStatus": {
   "notebookId": "dmmp5d7zw2szygbjfjny",
   "authorId": "6893705921972",
   "authorName": "PKORUPOLU",
   "authorEmail": "pkorupolu@ncl.com",
   "sessionId": "37fce7d9-e2a1-45a2-b602-af9143a70b72",
   "lastEditTime": 1756288532383
  }
 },
 "nbformat_minor": 5,
 "nbformat": 4,
 "cells": [
  {
   "cell_type": "code",
   "id": "3775908f-ca36-4846-8f38-5adca39217f2",
   "metadata": {
    "language": "python",
    "name": "cell1"
   },
   "source": "# # Import python packages\n# import streamlit as st\n# import pandas as pd\n\n# We can also use Snowpark for our analyses!\nfrom snowflake.snowpark.context import get_active_session\nsession = get_active_session()\n",
   "execution_count": null,
   "outputs": []
  },
  {
   "cell_type": "markdown",
   "id": "d1c56b5a-e3b0-4c96-8e0b-70665e3f1b7e",
   "metadata": {
    "name": "cell4",
    "collapsed": false
   },
   "source": "## RSS_PRICING_LFL_BDV_ID"
  },
  {
   "cell_type": "code",
   "id": "8d50cbf4-0c8d-4950-86cb-114990437ac9",
   "metadata": {
    "language": "sql",
    "name": "cell2",
    "codeCollapsed": false
   },
   "source": "-- create or replace table VESSOPS_D.L30_ID.GCI_NCH_PRICING_LFL as \n\nTRUNCATE TABLE VESSOPS_D.L30_ID.GCI_NCH_PRICING_LFL;\n\nINSERT INTO VESSOPS_D.L30_ID.GCI_NCH_PRICING_LFL\nSELECT\n    COMPANY_ID,\n    SAIL_ID AS NCLH_SAILING_ID,\n    NCLH_UNI_VOYAGE_CODE AS GCI_VOYAGE_CODE,\n    BRAND_META_CATEGORY_DESC,\n    CRUISELINENAME_LFL AS BRAND_COMPETITOR,\n    SOURCESHIPNAME_LFL AS SHIP,\n    RSS_COMP_SAIL_ID AS COMP_SAIL_ID,\n    NCLH_UNI_VOYAGE_CODE_LFL AS GCI_VOYAGE_CODE_COMPETITOR,\n    ADV_WEEK_LFL as ADVANCE_WEEKS_TO_SAIL,\n    CabinType_LFL AS ORIGINAL_META,\n    RSS_CabinType_LFL AS TRANSLATED_META,\n    TRADE_HIERARCHY1_LFL AS COMP_REGION_1,\n    TRADE_HIERARCHY2_LFL AS COMP_REGION_2,\n    TRADE_HIERARCHY3_LFL AS COMP_REGION_3,\n    CRUISEDURATION_LFL AS DURATION,\n    EMBARKATIONDATE_LFL AS DEPARTURE_DATE,\n    EMBARKATIONPORT_LFL AS EMBARK_PORT,\n    EMBARKATIONPORTUN_LOCODE_LFL AS EMBARK_PORT_UNLOCODE,\n    DisembarkationDate_LFL AS DISEMBARK_DATE,\n    DISEMBARKATIONPORT_LFL AS DISEMBARK_PORT,\n    DISEMBARKATIONPORTUN_LOCODE_LFL AS DISEMBARK_PORT_UNLOCODE,\n    TaxExclusiveRatePPD_LFL AS LEAD_TAX_EXCLUSIVE_PRICE_PPD,\n    TaxInclusiveRatePPD_LFL AS LEAD_TAX_INCLUSIVE_PRICE_PPD,\n    TaxExclusiveRatePP_LFL AS LEAD_TAX_EXCLUSIVE_RATE_PP,\n    TaxInclusiveRatePP_LFL AS LEAD_TAX_INCLUSIVE_RATE_PP,\n    TAXESANDFEESPPD_LFL AS LEAD_TAX_FEES_PPD,\n    TAXESANDFEESPP_LFL AS LEAD_TAX_FEES_PP,\n    SOURCECURRENCY_LFL AS CURRENCY,\n    RateInquiryDate_LFL AS SCRAPE_DATE,\n    CACHEPAGELINK_LFL AS CACHEPAGELINK,\n    ItineraryPortContent_LFL AS ITINERARY_PORT_CONTENT,\n    RSS_MD5_VOYAGE_HASH_KEY,\n\n    /* ✅ Always cast to VARCHAR before hashing */\n    MD5(\n        COALESCE(CAST(COMPANY_ID AS VARCHAR),'') || '|' ||\n        COALESCE(CAST(SAIL_ID AS VARCHAR),'') || '|' ||\n        COALESCE(NCLH_UNI_VOYAGE_CODE,'') || '|' ||\n        COALESCE(CRUISELINENAME_LFL,'') || '|' ||\n        COALESCE(SOURCESHIPNAME_LFL,'') || '|' ||\n        COALESCE(RSS_COMP_SAIL_ID,'') || '|' ||\n        COALESCE(NCLH_UNI_VOYAGE_CODE_LFL,'') || '|' ||\n        COALESCE(TRADE_HIERARCHY1_LFL,'') || '|' ||\n        COALESCE(TRADE_HIERARCHY2_LFL,'') || '|' ||\n        COALESCE(TRADE_HIERARCHY3_LFL,'') || '|' ||\n        COALESCE(CAST(CRUISEDURATION_LFL AS VARCHAR),'') || '|' ||\n        COALESCE(EMBARKATIONPORT_LFL,'') || '|' ||\n        COALESCE(EMBARKATIONPORTUN_LOCODE_LFL,'') || '|' ||\n        COALESCE(DISEMBARKATIONPORT_LFL,'') || '|' ||\n        COALESCE(DISEMBARKATIONPORTUN_LOCODE_LFL,'') || '|' ||\n        COALESCE(CAST(TaxExclusiveRatePPD_LFL AS VARCHAR),'') || '|' ||\n        COALESCE(CAST(TaxInclusiveRatePPD_LFL AS VARCHAR),'') || '|' ||\n        COALESCE(CAST(TaxExclusiveRatePP_LFL AS VARCHAR),'') || '|' ||\n        COALESCE(CAST(TaxInclusiveRatePP_LFL AS VARCHAR),'') || '|' ||\n        COALESCE(CAST(TAXESANDFEESPPD_LFL AS VARCHAR),'') || '|' ||\n        COALESCE(CAST(TAXESANDFEESPP_LFL AS VARCHAR),'') || '|' ||\n        COALESCE(SOURCECURRENCY_LFL,'') || '|' ||\n        COALESCE(ItineraryPortContent_LFL,'')\n    ) AS HASH_DIFF,\n\n    current_timestamp as LDTS,\n    RCSR,\n    LASTMODIFIED_BY\nFROM VESSOPS_D.L20_BDV.SAT_GCI_RSS_CONSUMPTION_PRICING_LFL",
   "execution_count": null,
   "outputs": []
  },
  {
   "cell_type": "code",
   "id": "c695373e-ac74-4b62-a1f1-08206cbd5c81",
   "metadata": {
    "language": "python",
    "name": "cell3",
    "codeCollapsed": false
   },
   "source": "",
   "execution_count": null,
   "outputs": []
  }
 ]
}