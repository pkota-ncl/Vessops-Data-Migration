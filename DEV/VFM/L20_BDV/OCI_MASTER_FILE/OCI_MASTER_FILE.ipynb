{
 "metadata": {
  "kernelspec": {
   "display_name": "Streamlit Notebook",
   "name": "streamlit"
  },
  "lastEditStatus": {
   "notebookId": "at6cdv6y5kgoxn2rdzeg",
   "authorId": "3739233679026",
   "authorName": "PKOTA",
   "authorEmail": "pkota@ncl.com",
   "sessionId": "3499d947-e2f4-46bd-abc8-b21a6b89ad51",
   "lastEditTime": 1760440846631
  }
 },
 "nbformat_minor": 5,
 "nbformat": 4,
 "cells": [
  {
   "cell_type": "code",
   "id": "3775908f-ca36-4846-8f38-5adca39217f2",
   "metadata": {
    "language": "python",
    "name": "cell1"
   },
   "source": "from snowflake.snowpark import Session\nfrom snowflake.snowpark import functions as F\nfrom snowflake.snowpark import types as T\nfrom snowflake.snowpark.window import Window\nfrom snowflake.snowpark.functions import col, lit, coalesce\nfrom datetime import date\n\nconnection_parameters = {\n    'user': '',\n    'password': '',\n    'account': 'yvb85669.us-east-1',\n    'warehouse': 'WH_PG200',\n    'role': 'SYSADMINDEV',\n    'database': 'VESSOPS_D',\n    'schema': 'L10_RDV'\n}\nsession = Session.builder.configs(connection_parameters).create()\n",
   "execution_count": null,
   "outputs": []
  },
  {
   "cell_type": "code",
   "id": "ed6a9be2-a30e-41e6-b2f9-6d65a9303e76",
   "metadata": {
    "language": "python",
    "name": "cell4"
   },
   "outputs": [],
   "source": "#pax_cruise_segment_data\n\npax_seg= session.table(\"VESSOPS_D.L10_RDV.VFM_PCH_PAX_CRUISE_SEGMENT_DATA\").select(\n    F.col(\"COMPANY_CD\"),\n    F.col(\"CRUISE_CD\"),\n    F.col(\"CRUISE_SEGMENT_CD\"),\n    F.col(\"ACCOUNTING_PERIOD\"),\n    F.col(\"NET_REVENUE\"),\n    F.col(\"CRUISE_SEG_PAX_DAY_QTY\"),\n    F.col(\"CRUISE_SEGMENT_PAX_QTY\"),\n    F.col(\"CRUISE_PAX_QTY\"),\n)\n\n#changing from float to int\npax_seg = (\n    pax_seg.with_column(\"CRUISE_SEG_PAX_DAY_QTY\", F.round(F.col(\"CRUISE_SEG_PAX_DAY_QTY\"), 0).cast(T.IntegerType())).with_column(\"CRUISE_SEGMENT_PAX_QTY\", F.round(F.col(\"CRUISE_SEGMENT_PAX_QTY\"), 0).cast(T.IntegerType())).with_column(\"CRUISE_PAX_QTY\", F.round(F.col(\"CRUISE_PAX_QTY\"), 0).cast(T.IntegerType())))\n\n# pax_seg.select(\"ACCOUNTING_PERIOD\").distinct().show()\n\n        \npax_seg.show(10)\n",
   "execution_count": null
  },
  {
   "cell_type": "code",
   "id": "80745397-5bd1-4f35-93c3-c9d88607a528",
   "metadata": {
    "language": "python",
    "name": "cell5"
   },
   "outputs": [],
   "source": "#FDR DATA \n\n\nFDR = (\n    session.table(\"VESSOPS_D.L10_RDV.VFM_OCI_FDR\")\n    .select(\n        \"CRUISE_CD\",\n        \"PRTD_YEAR\",\n        \"PRTD_MONTH\",\n        \"PERIOD\",\n        \"PAX_DAY_CAPACITY\",\n        \"REV_PAX_DAYS\",\n        \"REV_OCC_PCT\"\n    )\n)\n\n#CREATING ACCOUNTING_PERIOD\nFDR = FDR.with_column(\n    \"ACCOUNTING_PERIOD\",\n    F.concat(\n        F.col(\"PRTD_YEAR\").cast(\"string\"),\n        F.lpad(\n            F.to_char(\n                F.to_date(F.concat(F.col(\"PRTD_MONTH\"), F.lit(\" 01 2000\")), 'MMMM DD YYYY'),\n                'MM'\n            ),\n            2,\n            F.lit('0')   \n        )\n    ).cast(\"int\")\n)\n#FILTERING BASED ON YEAR AND MONTH\n\nFDR = FDR.filter(\n    (F.col(\"PRTD_YEAR\") == 2023)\n    | (F.col(\"PRTD_YEAR\") == 2024)\n    | (\n        (F.col(\"PRTD_YEAR\") == 2025)\n        & F.col(\"PRTD_MONTH\").isin(\n            [\"January\", \"February\", \"March\", \"April\", \"May\", \"June\"]\n        )\n    )\n)\n# RENAMING THE COLOUMN\nFDR = FDR.with_column_renamed(\"CRUISE_CD\", \"CRUISE_SEGMENT_CD\")\n\n\n\nFDR_merge = (\n    FDR.join(\n        pax_seg,\n        on=[\"CRUISE_SEGMENT_CD\", \"ACCOUNTING_PERIOD\"],\n        how=\"inner\"  # behaves like pandas merge\n    )\n\n)\n\n\n\n\nFDR_summed_Pax = (\n    FDR_merge.group_by(\"CRUISE_SEGMENT_CD\", \"ACCOUNTING_PERIOD\")\n             .agg(F.sum(F.col(\"CRUISE_SEG_PAX_DAY_QTY\")).alias(\"SUMMED_CRUISE_SEG_PAX_DAY_QTY\"))\n)\n\n\n\n\nFDR_merge_clean = FDR_merge.join(\n    FDR_summed_Pax,\n    on=[\"CRUISE_SEGMENT_CD\", \"ACCOUNTING_PERIOD\"],\n    how=\"inner\"\n)\n\n\n# 1. Extract month from ACCOUNTING_PERIOD (assumes format YYYYMM)\nFDR_merge_clean = FDR_merge_clean.with_column(\n    \"Month\",\n    F.col(\"ACCOUNTING_PERIOD\").cast(\"string\").substr(5, 2).cast(T.IntegerType())\n)\n\n# 2. Convert ACCOUNTING_PERIOD back to float if needed\nFDR_merge_clean = FDR_merge_clean.with_column(\n    \"ACCOUNTING_PERIOD\",\n    F.col(\"ACCOUNTING_PERIOD\").cast(T.FloatType())\n)\n\n# 3. Calculate Ratio\nFDR_merge_clean = FDR_merge_clean.with_column(\n    \"Ratio\",\n    F.col(\"CRUISE_SEG_PAX_DAY_QTY\") / F.col(\"SUMMED_CRUISE_SEG_PAX_DAY_QTY\")\n)\n\n# 4. Calculate ADJ_BF_Cap_Days and ADJ_BF_Pax_Days (rounded integers)\nFDR_merge_clean = FDR_merge_clean.with_column(\n    \"ADJ_BF_Cap_Days\",\n    F.round(F.col(\"PAX_DAY_CAPACITY\") * F.col(\"Ratio\"), 0).cast(T.IntegerType())\n).with_column(\n    \"ADJ_BF_Pax_Days\",\n    F.round(F.col(\"REV_PAX_DAYS\") * F.col(\"Ratio\"), 0).cast(T.IntegerType())\n)\n\n# 5. Calculate PPD (rounded to 2 decimals)\nFDR_merge_clean = FDR_merge_clean.with_column(\n    \"PPD\",\n    F.round(F.col(\"NET_REVENUE\") / F.col(\"ADJ_BF_Pax_Days\"), 2)\n)\n\n\n\n# FDR.select(\"ACCOUNTING_PERIOD\").distinct().show()\n\nFDR_merge_clean = FDR_merge_clean.filter(F.col(\"REV_PAX_DAYS\") != 0)\n\n\n\nFDR_NEW = FDR_merge_clean.select(\n    F.col(\"CRUISE_CD\"),\n    F.col(\"CRUISE_SEGMENT_CD\"),\n    F.col(\"PRTD_YEAR\"),\n    F.col(\"MONTH\"),\n    F.col(\"ADJ_BF_CAP_DAYS\"),\n    F.col(\"ADJ_BF_PAX_DAYS\"),\n    F.col(\"PPD\"),\n     # previously renamed from \"REV_OCC_PCT\"\n)\n\n\nFDR_NEW = FDR_NEW.with_column(\n    \"SHIP_CD\",\n    F.col(\"CRUISE_SEGMENT_CD\").substr(1, 3)  # first 3 characters\n).with_column(\n    \"CRUISE_GRAB\",\n    F.col(\"CRUISE_SEGMENT_CD\").substr(1, 7)  # first 7 characters\n)\n\nFDR_NEW.limit(10).show()",
   "execution_count": null
  },
  {
   "cell_type": "code",
   "id": "6756c0bd-7d3c-4330-b9c1-ea4c8d2440ba",
   "metadata": {
    "language": "python",
    "name": "cell6"
   },
   "outputs": [],
   "source": "#GSS DATA\n\n\nGSS = session.table(\"VESSOPS_D.L10_RDV.VFM_PCH_GSS\").select(\n    F.col(\"BRAND\"),\n    F.col(\"CRUISE_CD\"),\n    F.col(\"CRUISE_START_DAT\"),\n    F.col(\"CRUISE_END_DAT\"),\n    F.col(\"OPERATIONAL_DATE\"),\n    F.col(\"MEASURE_NAMES\"),\n    F.col(\"MEASURE_VALUES\"),\n    \n)\n\nGSS_OCI = GSS.filter(\n    (F.col(\"BRAND\") == \"OCI\") &\n    (F.col(\"MEASURE_NAMES\") == \"% Satisfied\")\n)\n\n# Select and rename columns\nGSS_OCI = GSS_OCI.select(\n    F.col(\"CRUISE_CD\").alias(\"CRUISE_SEGMENT_CD\"),\n    F.col(\"BRAND\"),\n    F.col(\"MEASURE_VALUES\").alias(\"GSS\"),\n    F.col(\"CRUISE_CD\").substr(1, 3).alias(\"SHIP_CD\")\n)\n\nGSS_OCI.limit(10).show()",
   "execution_count": null
  },
  {
   "cell_type": "code",
   "id": "c695373e-ac74-4b62-a1f1-08206cbd5c81",
   "metadata": {
    "language": "python",
    "name": "cell3",
    "codeCollapsed": false
   },
   "source": "# #ITINERARY TABLE\n# itinerary = session.table(\"VESSOPS_D.L10_RDV.VFM_PCH_ITINERARY\").select(\n#     F.col(\"COMPANY_CD\"),\n#     F.col(\"CRUISE_CD\"),\n#     F.col(\"PRODUCT\"),\n#     F.col(\"STARTPOINT\"),\n#     F.col(\"ENDPOINT\"),\n#     F.col(\"ACTIVE_POSITION\"),\n#     F.col(\"START_DATE\"),\n#     F.col(\"END_DATE\"),\n#     F.col(\"RANK_OF_POSITION\"),\n#     F.col(\"STARTPORT_CD\"),\n#     F.col(\"ENDPORT_CD\")\n# )\n\n\n# # itinerary = itinerary.with_column_renamed(\"CRUISE_CD\", \"CRUISE_SEGMENT_CD\")\n\n# # # Cast StartPort_CD to string\n# # itinerary = itinerary.with_column(\"STARTPORT_CD\", F.col(\"STARTPORT_CD\").cast(\"string\"))\n\n# # # Window per cruise, ordered by RANK_OF_POSITION\n# # w = Window.partition_by(\"CRUISE_SEGMENT_CD\").order_by(\"RANK_OF_POSITION\")\n\n# # # Lag to get previous end port\n# # itinerary = itinerary.with_column(\"PREV_ENDPORT\", F.lag(\"ENDPORT_CD\").over(w))\n\n# # # Determine PORT_PART (avoid consecutive duplicates)\n# # itinerary = itinerary.with_column(\n# #     \"PORT_PART\",\n# #     F.when(F.col(\"PREV_ENDPORT\").is_null(), F.col(\"STARTPORT_CD\"))\n# #      .when(F.col(\"PREV_ENDPORT\") != F.col(\"ENDPORT_CD\"), F.col(\"ENDPORT_CD\"))\n# #      .otherwise(F.lit(None))\n# # )\n\n# # # Aggregate into PortCD_Activity\n# # itinerary_result = (\n# #     itinerary.group_by(\"CRUISE_SEGMENT_CD\")\n# #              .agg(F.array_to_string(F.array_agg(\"PORT_PART\"), F.lit(\" - \")).alias(\"PORTCD_ACTIVITY\"))\n# # )\n\n# #2ND CODE\n\n# # from snowflake.snowpark import functions as F\n# # from snowflake.snowpark.window import Window\n\n# # # Rename as you did\n# # itinerary = itinerary.with_column_renamed(\"CRUISE_CD\", \"CRUISE_SEGMENT_CD\")\n\n# # # Cast STARTPORT_CD to string\n# # itinerary = itinerary.with_column(\"STARTPORT_CD\", F.col(\"STARTPORT_CD\").cast(\"string\"))\n\n# # w = Window.partition_by(\"CRUISE_SEGMENT_CD\").order_by(\"RANK_OF_POSITION\")\n\n# # # Lag previous ENDPORT_CD\n# # itinerary = itinerary.with_column(\"PREV_ENDPORT\", F.lag(\"ENDPORT_CD\").over(w))\n\n# # # Add a row_number to identify first row per cruise\n# # itinerary = itinerary.with_column(\"ROW_NUM\", F.row_number().over(w))\n\n# # # Create a column that holds ports to add (could be two ports for first row)\n# # # We'll explode this array later before aggregation\n# # itinerary = itinerary.with_column(\n# #     \"PORTS_TO_ADD\",\n# #     F.when(\n# #         F.col(\"ROW_NUM\") == 1,\n# #         F.array_construct(F.col(\"STARTPORT_CD\"), F.col(\"ENDPORT_CD\"))\n# #     ).otherwise(\n# #         F.when(F.col(\"ENDPORT_CD\") != F.col(\"PREV_ENDPORT\"), F.array_construct(F.col(\"ENDPORT_CD\")))\n# #          .otherwise(F.array_construct())\n# #     )\n# # )\n\n# # # Explode array so each port is a separate row, then group back\n\n# # # Flatten the ports to single rows\n# # itinerary_exploded = itinerary.select(\n# #     \"CRUISE_SEGMENT_CD\",\n# #     F.explode(\"PORTS_TO_ADD\").alias(\"PORT_PART\"),\n# #     \"RANK_OF_POSITION\",\n# #     \"ROW_NUM\"\n# # )\n\n# # # Now remove duplicates in a way that respects order (keep unique ports only)\n\n# # from snowflake.snowpark.functions import row_number\n\n# # # Define a window to order by RANK_OF_POSITION and PORT_PART for deduplication\n# # w2 = Window.partition_by(\"CRUISE_SEGMENT_CD\").order_by(\"RANK_OF_POSITION\", \"PORT_PART\")\n\n# # # Add row_number for deduplication of consecutive ports\n# # itinerary_exploded = itinerary_exploded.with_column(\n# #     \"PREV_PORT\",\n# #     F.lag(\"PORT_PART\").over(Window.partition_by(\"CRUISE_SEGMENT_CD\").order_by(\"RANK_OF_POSITION\"))\n# # )\n\n# # # Filter out consecutive duplicate ports\n# # itinerary_filtered = itinerary_exploded.filter(\n# #     (F.col(\"PREV_PORT\").is_null()) | (F.col(\"PORT_PART\") != F.col(\"PREV_PORT\"))\n# # )\n\n# # # Aggregate final port sequence per cruise\n# # itinerary_result = (\n# #     itinerary_filtered.group_by(\"CRUISE_SEGMENT_CD\")\n# #     .agg(\n# #         F.expr(\"LISTAGG(PORT_PART, ' - ') WITHIN GROUP (ORDER BY RANK_OF_POSITION)\").alias(\"PORTCD_ACTIVITY\")\n# #     )\n# # )\n\n# #3RDCODE\n\n\n\n# # Step 1: Rename cruise code and cast ports as string\n# itinerary = itinerary.with_column_renamed(\"CRUISE_CD\", \"CRUISE_SEGMENT_CD\")\n# itinerary = itinerary.with_column(\"STARTPORT_CD\", F.col(\"STARTPORT_CD\").cast(\"string\"))\n# itinerary = itinerary.with_column(\"ENDPORT_CD\", F.col(\"ENDPORT_CD\").cast(\"string\"))\n\n# # Step 2: Explode itinerary into port events with ordering\n\n# # Create a \"port events\" dataframe that includes:\n# # - first start port as a row\n# # - then all end ports as subsequent rows ordered by RANK_OF_POSITION\n\n# start_ports = itinerary.filter(F.col(\"RANK_OF_POSITION\") == 1) \\\n#                       .select(\n#                           \"CRUISE_SEGMENT_CD\",\n#                           F.col(\"STARTPORT_CD\").alias(\"PORT_CD\"),\n#                           F.lit(0).alias(\"PORT_ORDER\")\n#                       )\n\n# end_ports = itinerary.select(\n#     \"CRUISE_SEGMENT_CD\",\n#     F.col(\"ENDPORT_CD\").alias(\"PORT_CD\"),\n#     F.col(\"RANK_OF_POSITION\").alias(\"PORT_ORDER\")\n# )\n\n# port_events = start_ports.union_all(end_ports)\n\n# # Step 3: Window to order ports per cruise segment by PORT_ORDER\n# w = Window.partition_by(\"CRUISE_SEGMENT_CD\").order_by(\"PORT_ORDER\")\n\n# # Step 4: Use lag to remove consecutive duplicate ports\n# port_events = port_events.with_column(\"PREV_PORT_CD\", F.lag(\"PORT_CD\").over(w)) \\\n#                          .with_column(\"IS_DUP\", F.when(F.col(\"PORT_CD\") == F.col(\"PREV_PORT_CD\"), 1).otherwise(0))\n\n# ports_no_dup = port_events.filter(F.col(\"IS_DUP\") == 0)\n\n# # Step 5: Aggregate ordered ports per cruise segment using LISTAGG\n# itinerary_result = ports_no_dup.group_by(\"CRUISE_SEGMENT_CD\").agg(\n#     F.expr(\"LISTAGG(PORT_CD, ' - ') WITHIN GROUP (ORDER BY PORT_ORDER)\").alias(\"PORTCD_ACTIVITY\")\n# )\n\n\n# # Join itinerary with the aggregated port sequence\n# itinerary_final = itinerary.join(\n#     itinerary_result,\n#     on=\"CRUISE_SEGMENT_CD\",\n#     how=\"left\"\n# )\n\n# # Derive year from CRUISE_SEGMENT_CD\n# itinerary_final = itinerary_final.with_column(\n#     \"YEAR\",\n#     F.substring(F.col(\"CRUISE_SEGMENT_CD\"), 4, 2)\n# )\n\n# # Filter for years 22–25\n# itinerary_final = itinerary_final.filter(F.col(\"YEAR\").isin([\"22\",\"23\",\"24\",\"25\"]))\n\n\n\n\n\n\n# # Remove duplicates first\n# itinerary_dupl = itinerary_final.select(\n#     \"CRUISE_SEGMENT_CD\", \"PRODUCT\", \"PORTCD_ACTIVITY\"\n# ).distinct()\n\n# # Aggregate into array and then string\n# portcd = (\n#     itinerary_dupl.group_by(\"CRUISE_SEGMENT_CD\", \"PRODUCT\")\n#                    .agg(\n#                        F.array_to_string(\n#                            F.array_agg(\"PORTCD_ACTIVITY\"),\n#                            F.lit(\" - \")\n#                        ).alias(\"PORTCD_ACTIVITY\")\n#                    )\n# )\n\n\n\n# portcd.limit(10).show()\n\n\n\n",
   "execution_count": null,
   "outputs": []
  },
  {
   "cell_type": "code",
   "id": "85a25148-34a1-43ac-9073-1a7b65db3e34",
   "metadata": {
    "language": "python",
    "name": "cell2"
   },
   "outputs": [],
   "source": "\n\n# Step 1: Load itinerary table with all needed columns\nitinerary = session.table(\"VESSOPS_D.L10_RDV.VFM_PCH_ITINERARY\").select(\n    \"COMPANY_CD\",\n    \"CRUISE_CD\",\n    \"PRODUCT\",\n    \"STARTPOINT\",\n    \"ENDPOINT\",\n    \"ACTIVE_POSITION\",\n    \"START_DATE\",\n    \"END_DATE\",\n    \"RANK_OF_POSITION\",   # IMPORTANT: keep this column\n    \"STARTPORT_CD\",\n    \"ENDPORT_CD\"\n)\n\n# Step 2: Rename CRUISE_CD to CRUISE_SEGMENT_CD and cast ports as string\nitinerary = itinerary.with_column_renamed(\"CRUISE_CD\", \"CRUISE_SEGMENT_CD\")\nitinerary = itinerary.with_column(\"STARTPORT_CD\", F.col(\"STARTPORT_CD\").cast(\"string\"))\nitinerary = itinerary.with_column(\"ENDPORT_CD\", F.col(\"ENDPORT_CD\").cast(\"string\"))\n\n# Step 3: Extract first start port with PORT_ORDER=0\nstart_with_order = itinerary.filter(F.col(\"RANK_OF_POSITION\") == 1).select(\n    \"CRUISE_SEGMENT_CD\",\n    F.col(\"STARTPORT_CD\").alias(\"PORT_CD\"),\n    F.lit(0).alias(\"PORT_ORDER\")\n)\n\n# Step 4: Extract all end ports with their rank as order\nend_with_order = itinerary.select(\n    \"CRUISE_SEGMENT_CD\",\n    F.col(\"ENDPORT_CD\").alias(\"PORT_CD\"),\n    F.col(\"RANK_OF_POSITION\").alias(\"PORT_ORDER\")\n)\n\n# Step 5: Union start and end ports into one dataframe\nports = start_with_order.union_all(end_with_order)\n\n# Step 6: Define window partitioned by cruise segment, ordered by PORT_ORDER then PORT_CD (for ties)\nw = Window.partition_by(\"CRUISE_SEGMENT_CD\").order_by(\"PORT_ORDER\", \"PORT_CD\")\n\n# Step 7: Remove consecutive duplicate ports using lag\nports = ports.with_column(\"PREV_PORT\", F.lag(\"PORT_CD\").over(w))\nports = ports.filter((F.col(\"PREV_PORT\").is_null()) | (F.col(\"PORT_CD\") != F.col(\"PREV_PORT\")))\n\n# Step 8: Aggregate the port sequence per cruise segment, ordered by PORT_ORDER then PORT_CD\nitinerary_result = ports.group_by(\"CRUISE_SEGMENT_CD\").agg(\n    F.expr(\"LISTAGG(PORT_CD, ' - ') WITHIN GROUP (ORDER BY PORT_ORDER, PORT_CD)\").alias(\"PORTCD_ACTIVITY\")\n)\n\n\n\n# Optional: Join back to original itinerary if needed, e.g. to add port sequences to main data\nitinerary_final = itinerary.join(itinerary_result, on=\"CRUISE_SEGMENT_CD\", how=\"left\")\n\n# Optional: Derive year from cruise segment (example: substring positions 4-5) and filter\nitinerary_final = itinerary_final.with_column(\n    \"YEAR\",\n    F.substring(F.col(\"CRUISE_SEGMENT_CD\"), 4, 2)\n).filter(F.col(\"YEAR\").isin([\"22\", \"23\", \"24\", \"25\"]))\n\n\n\n# Remove duplicates first\nitinerary_dupl = itinerary_final.select(\n    \"CRUISE_SEGMENT_CD\", \"PRODUCT\", \"PORTCD_ACTIVITY\"\n).distinct()\n\n# Aggregate into array and then string\nportcd = (\n    itinerary_dupl.group_by(\"CRUISE_SEGMENT_CD\", \"PRODUCT\")\n                   .agg(\n                       F.array_to_string(\n                           F.array_agg(\"PORTCD_ACTIVITY\"),\n                           F.lit(\" - \")\n                       ).alias(\"PORTCD_ACTIVITY\")\n                   )\n)\n\n\n\nportcd.limit(10).show()\n",
   "execution_count": null
  },
  {
   "cell_type": "code",
   "id": "4ac15bc5-b8e1-44f2-b19c-d0993b8fba18",
   "metadata": {
    "language": "python",
    "name": "cell7",
    "codeCollapsed": false
   },
   "outputs": [],
   "source": "#alb data\n\nnclh_alb = session.table(\"VESSOPS_D.L10_RDV.VFM_NCLH_ALB\").select(\n    F.col(\"BRAND\"),\n    F.col(\"SHIP_NAME\"),\n    F.col(\"SHIP_CD\"),\n    F.col(\"ALB\")\n)\n\n# Preview the first 10 rows\nnclh_alb.limit(10).show()\n",
   "execution_count": null
  },
  {
   "cell_type": "code",
   "id": "b126ad90-e170-4ce1-8651-6bad6f531e87",
   "metadata": {
    "language": "python",
    "name": "cell9",
    "codeCollapsed": false
   },
   "outputs": [],
   "source": "# Join FDR_NEW with portcd\nmerged_FDR = FDR_NEW.join(portcd, on=[\"CRUISE_SEGMENT_CD\"], how=\"left\")\n\n# merged_FDR.show(10)\n\n# Join the result with GSS_OCI\nfinal_FDR_merge = merged_FDR.join(GSS_OCI, on=[\"CRUISE_SEGMENT_CD\", \"SHIP_CD\"], how=\"left\")\n\nfinal_FDR_merge = final_FDR_merge.with_column(\"BRAND\", F.lit(\"OCI\"))\n\n# # Preview\n# final_FDR_merge.limit(10).show()\n\n\n# Join using both Ship_Cd and BRAND as keys\nFDR_final = final_FDR_merge.join(\n    nclh_alb,\n    on=[\"Ship_Cd\", \"BRAND\"],\n    how=\"left\"\n)\n\n\nFDR_final = (\n    FDR_final\n    .with_column_renamed(\"ADJ_BF_Pax_Days\", \"PAX_DAYS\")\n    .with_column_renamed(\"ADJ_BF_Cap_Days\", \"DO_CAPS_DAYS\")\n\n)\n\nFDR_final = FDR_final.with_column(\"LOAD_FACTOR\", col(\"PAX_DAYS\") / col(\"DO_CAPS_DAYS\"))\nFDR_final.show(10)\n\n\n\n\n\n",
   "execution_count": null
  },
  {
   "cell_type": "code",
   "id": "26984fd3-4691-45f0-abfc-78003cf85a30",
   "metadata": {
    "language": "python",
    "name": "cell17"
   },
   "outputs": [],
   "source": "\n# Load the sailing master table\nsailing_master = session.table(\"VESSOPS_D.L10_RDV.VFM_PCH_SAILING_MASTER\").select(\n    F.col(\"COMPANY_CD\"),\n    F.col(\"CRUISE_SEGMENT_CD\"),\n    F.col(\"SHIP_CD\"),\n    F.col(\"SAIL_DAT\"),\n    F.col(\"RETURN_DAT\"),\n    F.col(\"SAIL_DAY_QTY\"),\n    F.col(\"EMBARK_PORT_CD\"),\n    F.col(\"DISEMBARK_PORT_CD\"),\n    F.col(\"CHARTER_IND\"),\n    F.col(\"SEGMENT_MARKET_NAME\"),\n    F.col(\"SEGMENT_SUPER_MARKET_DESC\"),\n    F.col(\"GUEST_CAPACITY_QTY\"),\n    F.col(\"CABIN_CAPACITY_QTY\"),\n    F.col(\"WEEK_NUM\"),\n    F.col(\"MONTH_NUM\"),\n    F.col(\"YEAR_NUM\"),\n)\n\n# Identify MAIN_VOYAGE_CD based on last char of CRUISE_SEGMENT_CD\nlast_char = F.substring(F.col(\"CRUISE_SEGMENT_CD\"), F.length(F.col(\"CRUISE_SEGMENT_CD\")), 1)\nsailing_master = sailing_master.with_column(\n    \"MAIN_VOYAGE_CD\",\n    F.when(last_char.rlike(\"[A-Za-z]\"), F.lit(\"N\")).otherwise(F.lit(\"Y\"))\n).filter(F.col(\"MAIN_VOYAGE_CD\") == \"Y\")\n\n# Add END_OF_MONTH column\nsailing_master = sailing_master.with_column(\"END_OF_MONTH\", F.last_day(F.col(\"SAIL_DAT\")))\n\n# Add STRADDLE_FLAG\nsailing_master = sailing_master.with_column(\n    \"STRADDLE_FLAG\",\n    F.when(F.col(\"RETURN_DAT\") > F.col(\"END_OF_MONTH\"), F.lit(\"straddle\"))\n     .otherwise(F.lit(\"Non-straddle\"))\n)\n# --- keep your code above as-is until STRADDLE_FLAG ---\n\n# PRTD_DAYS_BEFORE: same as you had (+1 for inclusive)\nsailing_master = sailing_master.with_column(\n    \"PRTD_DAYS_BEFORE\",\n    F.when(F.col(\"STRADDLE_FLAG\") == \"straddle\",\n           F.datediff(\"day\", F.col(\"SAIL_DAT\"), F.col(\"END_OF_MONTH\")) + F.lit(1)\n    ).otherwise(F.col(\"SAIL_DAY_QTY\"))\n)\n\n# PRTD_DAYS_AFTER: mirror pandas split logic  ==>  (return - eom) - 1\n# Use greatest(..., 0) to avoid negatives just in case.\nsailing_master = sailing_master.with_column(\n    \"PRTD_DAYS_AFTER_RAW\",\n    F.when(\n        F.col(\"STRADDLE_FLAG\") == \"straddle\",\n        F.greatest(\n            (F.datediff(\"day\", F.col(\"END_OF_MONTH\"), F.col(\"RETURN_DAT\")) - F.lit(1)),\n            F.lit(0)\n        )\n    ).otherwise(F.lit(0))\n)\n\n# BEFORE segment\nbefore_rows = (sailing_master\n    .with_column(\"CONV_SAIL_DAT\", F.col(\"SAIL_DAT\"))\n    .with_column(\"CONV_RETURN_DAT\", F.when(F.col(\"STRADDLE_FLAG\") == \"straddle\", F.col(\"END_OF_MONTH\"))\n                                      .otherwise(F.col(\"RETURN_DAT\")))\n    .with_column(\"CONV_SAIL_DAY_QTY\", F.col(\"PRTD_DAYS_BEFORE\"))\n    .with_column(\"BEFORE_COLUMN\", F.col(\"PRTD_DAYS_BEFORE\"))\n    .with_column(\"AFTER_COLUMN\", F.lit(0))\n    # Adjust flag like your pandas post-process: if after==0, mark as Non-straddle\n    .with_column(\"STRADDLE_FLAG_ADJ\",\n                 F.when(F.col(\"PRTD_DAYS_AFTER_RAW\") == 0, F.lit(\"Non-straddle\"))\n                  .otherwise(F.col(\"STRADDLE_FLAG\")))\n)\n\n# AFTER segment (only when after qty > 0)\nafter_rows = (sailing_master\n    .filter(F.col(\"PRTD_DAYS_AFTER_RAW\") > 0)\n    .with_column(\"CONV_SAIL_DAT\", F.dateadd(\"day\", F.lit(1), F.col(\"END_OF_MONTH\")))\n    .with_column(\"CONV_RETURN_DAT\", F.col(\"RETURN_DAT\"))\n    .with_column(\"CONV_SAIL_DAY_QTY\", F.col(\"PRTD_DAYS_AFTER_RAW\"))\n    .with_column(\"BEFORE_COLUMN\", F.lit(0))\n    .with_column(\"AFTER_COLUMN\", F.col(\"PRTD_DAYS_AFTER_RAW\"))\n    .with_column(\"STRADDLE_FLAG_ADJ\", F.lit(\"straddle\"))\n)\n\n# Union and keep only positive durations (mirrors pandas drop of zeros)\nfinal_sailing_df = (before_rows.union_all(after_rows)\n    .filter(F.col(\"CONV_SAIL_DAY_QTY\") > 0)\n)\n\n# BRAND (same)\nfinal_sailing_df = final_sailing_df.with_column(\n    \"BRAND\",\n    F.when(F.col(\"COMPANY_CD\") == 110, F.lit(\"RSSC\")).otherwise(F.lit(\"OCI\"))\n)\n\n# Use CONVERTED_SAIL_DATE for month/year like your pandas version\nfinal_sailing_df = (final_sailing_df\n    .with_column(\"MONTH_NBR\", F.month(\"CONV_SAIL_DAT\"))\n    .with_column(\"YEAR_NBR\",  F.year(\"CONV_SAIL_DAT\"))\n)\n\n# Final select (names close to your pandas output)\nfinal_sailing_df = final_sailing_df.select(\n    F.col(\"COMPANY_CD\"),\n    F.col(\"CRUISE_SEGMENT_CD\").alias(\"CRUISE_SEGMENT_CD_1\"),\n    F.col(\"SHIP_CD\").alias(\"SHIP_CD_1\"),\n    F.col(\"SAIL_DAT\"),\n    F.col(\"RETURN_DAT\"),\n    F.col(\"SAIL_DAY_QTY\"),\n    F.col(\"EMBARK_PORT_CD\"),\n    F.col(\"DISEMBARK_PORT_CD\"),\n    F.col(\"CHARTER_IND\").alias(\"CHARTER_CD\"),\n    F.col(\"SEGMENT_MARKET_NAME\").alias(\"PRODUCT_DESC\"),\n    F.col(\"SEGMENT_SUPER_MARKET_DESC\").alias(\"RM_ROLLUP_PRODUCT_DESC\"),\n    F.col(\"MAIN_VOYAGE_CD\"),\n    F.col(\"END_OF_MONTH\"),\n    F.col(\"STRADDLE_FLAG_ADJ\").alias(\"STRADDLE_FLAG\"),\n    F.col(\"CONV_SAIL_DAT\").alias(\"CONVERTED_SAIL_DATE\"),\n    F.col(\"CONV_RETURN_DAT\").alias(\"CONVERTED_RETURN_DATE\"),\n    F.col(\"CONV_SAIL_DAY_QTY\").alias(\"CONVERTED_SAIL_DAY_QTY\"),\n    F.col(\"BRAND\").alias(\"BRAND_1\"),\n    F.col(\"MONTH_NBR\"),\n    F.col(\"YEAR_NBR\")\n)\n\n# Preview\nfinal_sailing_df.limit(10).show()\n",
   "execution_count": null
  },
  {
   "cell_type": "code",
   "id": "00508fdc-1b52-4685-b62c-d99f39d6953e",
   "metadata": {
    "language": "python",
    "name": "cell11",
    "codeCollapsed": false
   },
   "outputs": [],
   "source": "rss = FDR_final.alias(\"rss\")\nsm = final_sailing_df.alias(\"sm\")\n\n# Normal join without col()\nFDR_result = rss.join(\n    sm,\n    (rss[\"CRUISE_SEGMENT_CD\"] == sm[\"CRUISE_SEGMENT_CD_1\"]) &\n    (rss[\"MONTH\"] == sm[\"MONTH_NBR\"]) &\n    (rss[\"PRTD_YEAR\"] == sm[\"YEAR_NBR\"]),\n    how=\"left\"\n)\n\n\n\n\n# Drop multiple columns\nFDR_result_clean = FDR_result.drop(\"BRAND_1\", \"CRUISE_SEGMENT_CD_1\", \"SHIP_CD_1\")\n\n# Show result\n# FDR_result_clean.show(10)\n\n\nfinal_sailing_df = final_sailing_df.rename(\n    {\n        \"BRAND_1\": \"BRAND\",\n        \"CRUISE_SEGMENT_CD_1\": \"CRUISE_SEGMENT_CD\",\n        \"SHIP_CD_1\": \"SHIP_CD\"\n    }\n)\n\n# Show result\n# final_sailing_df.show(10)\n\nFDR_result.show()\n",
   "execution_count": null
  },
  {
   "cell_type": "code",
   "id": "709ab3d3-0d34-48bb-a619-6dfa8ac64d32",
   "metadata": {
    "language": "python",
    "name": "cell16"
   },
   "outputs": [],
   "source": "",
   "execution_count": null
  },
  {
   "cell_type": "code",
   "id": "e3d98631-b2b2-4b34-aeae-3743e0c063eb",
   "metadata": {
    "language": "python",
    "name": "cell12"
   },
   "outputs": [],
   "source": "from snowflake.snowpark.functions import when, col\nFDR_result_clean = FDR_result_clean.with_column(\n    \"Ship_class\",\n    when(col(\"SHIP_CD\") == \"INS\", \"Regatta Class\")\n    .when(col(\"SHIP_CD\") == \"REG\", \"Regatta Class\")\n    .when(col(\"SHIP_CD\") == \"SIR\", \"Regatta Class\")\n    .when(col(\"SHIP_CD\") == \"MNA\", \"Oceania Class\")\n    .when(col(\"SHIP_CD\") == \"NAU\", \"Regatta Class\")\n    .when(col(\"SHIP_CD\") == \"RVA\", \"Oceania Class\")\n    .when(col(\"SHIP_CD\") == \"VIS\", \"Allura Class\")\n)\n\nFDR_result_clean.columns",
   "execution_count": null
  },
  {
   "cell_type": "code",
   "id": "8f7c2065-af41-49be-b389-70da6ac1efde",
   "metadata": {
    "language": "python",
    "name": "cell13"
   },
   "outputs": [],
   "source": "Master_3 = FDR_result_clean.select(\n  'CRUISE_CD', 'CRUISE_SEGMENT_CD', 'CRUISE_GRAB', 'PRTD_YEAR', 'MONTH', 'ALB', 'LOAD_FACTOR',\n    'PAX_DAYS', 'DO_CAPS_DAYS', 'PPD', 'PORTCD_ACTIVITY', 'GSS', 'SHIP_CD', 'SHIP_NAME', 'SHIP_CLASS',\n    'SAIL_DAT', 'RETURN_DAT', 'SAIL_DAY_QTY', 'EMBARK_PORT_CD', 'DISEMBARK_PORT_CD', 'CHARTER_CD',\n    'PRODUCT_DESC', 'RM_ROLLUP_PRODUCT_DESC', 'MAIN_VOYAGE_CD', 'END_OF_MONTH', 'STRADDLE_FLAG',\n    'COMPANY_CD', 'CONVERTED_SAIL_DATE', 'CONVERTED_RETURN_DATE', 'CONVERTED_SAIL_DAY_QTY',\n    'BRAND', 'MONTH_NBR', 'YEAR_NBR'\n)\n\nMaster_3.show(10)\n",
   "execution_count": null
  },
  {
   "cell_type": "code",
   "id": "5f0ed6ff-0add-4c50-90a3-cf947258cf73",
   "metadata": {
    "language": "python",
    "name": "cell18",
    "codeCollapsed": false
   },
   "outputs": [],
   "source": "Master_3 = Master_3.with_column(\n    \"CHARTER_CD\",\n    when(col(\"CHARTER_CD\") == True, \"Y\")\n    .when(col(\"CHARTER_CD\") == False, \"N\")\n    .otherwise(col(\"CHARTER_CD\"))  # If there are nulls or other unexpected values\n)\nMaster_3 = Master_3.with_column(\"GSS\", lit(0))\n",
   "execution_count": null
  },
  {
   "cell_type": "code",
   "id": "cf109f97-a5ac-4429-83e3-f7a01a14b4b3",
   "metadata": {
    "language": "python",
    "name": "cell14"
   },
   "outputs": [],
   "source": "# from snowflake.snowpark import functions as F\n# from snowflake.snowpark import types as T\n\n# Master_OCI = Master_OCI.select(\n#     F.col(\"CRUISE_CD\").cast(T.StringType()),\n#     F.col(\"CRUISE_SEGMENT_CD\").cast(T.StringType()),\n#     F.col(\"CRUISE_GRAB\").cast(T.StringType()),\n#     F.col(\"PRTD_YEAR\").cast(T.IntegerType()),\n#     F.col(\"MONTH\").cast(T.IntegerType()),\n#     F.col(\"ALB\").cast(T.FloatType()),\n#     F.col(\"LOAD_FACTOR\").cast(T.FloatType()),\n#     F.col(\"PAX_DAYS\").cast(T.IntegerType()),\n#     F.col(\"DO_CAPS_DAYS\").cast(T.IntegerType()),\n#     F.col(\"PPD\").cast(T.FloatType()),\n#     F.col(\"PORTCD_ACTIVITY\").cast(T.StringType()),\n#     F.col(\"GSS\").cast(T.StringType()),\n#     F.col(\"SHIP_CD\").cast(T.StringType()),\n#     F.col(\"SHIP_NAME\").cast(T.StringType()),\n#     F.col(\"SHIP_CLASS\").cast(T.StringType()),\n#     F.col(\"SAIL_DAT\").cast(T.DateType()),\n#     F.col(\"RETURN_DAT\").cast(T.DateType()),\n#     F.col(\"SAIL_DAY_QTY\").cast(T.IntegerType()),\n#     F.col(\"EMBARK_PORT_CD\").cast(T.StringType()),\n#     F.col(\"DISEMBARK_PORT_CD\").cast(T.StringType()),\n#     F.col(\"CHARTER_CD\").cast(T.StringType()),\n#     F.col(\"PRODUCT_DESC\").cast(T.StringType()),\n#     F.col(\"RM_ROLLUP_PRODUCT_DESC\").cast(T.StringType()),\n#     F.col(\"MAIN_VOYAGE_CD\").cast(T.StringType()),\n#     F.col(\"END_OF_MONTH\").cast(T.DateType()),\n#     F.col(\"STRADDLE_FLAG\").cast(T.StringType()),\n#     F.col(\"COMPANY_CD\").cast(T.StringType()),\n#     F.col(\"CONVERTED_SAIL_DATE\").cast(T.DateType()),\n#     F.col(\"CONVERTED_RETURN_DATE\").cast(T.DateType()),\n#     F.col(\"CONVERTED_SAIL_DAY_QTY\").cast(T.IntegerType()),\n#     F.col(\"BRAND\").cast(T.StringType()),\n#     F.col(\"MONTH_NBR\").cast(T.IntegerType()),\n#     F.col(\"YEAR_NBR\").cast(T.IntegerType())\n# )\n\n",
   "execution_count": null
  },
  {
   "cell_type": "code",
   "id": "64583071-5705-4127-8e7d-d3eaf1aeee1e",
   "metadata": {
    "language": "python",
    "name": "cell15",
    "codeCollapsed": false
   },
   "outputs": [],
   "source": "# Master_3 = Master_3.with_column(\"MD5_HUB_VOYAGE\", F.md5(F.col(\"VOYAGE_CD\")))\n\n# columns_to_hash = [c for c in Master_3.columns if c not in (\"VOYAGE_CD\", \"LDTS\", \"RCSR\", \"LAST_MODIFIED_BY\", \"MD5_VOYAGE_HASH_KEY\")]\n# Master_3 = Master_3.withColumn(\"HASH_DIFF\", F.md5(F.concat(*[F.coalesce(F.col(c).cast(\"string\"), F.lit(\"\")).cast(\"string\") for c in columns_to_hash])))\n\n\n# Master_3 = Master_3.withColumn(\"LDTS\", F.current_timestamp())\\\n#                     .withColumn(\"RCSR\", F.lit('Sailing_Master,FDR'))\\\n#                     .withColumn(\"LAST_MODIFIED_BY\", F.current_user())\n\n",
   "execution_count": null
  },
  {
   "cell_type": "code",
   "id": "082a8f76-6e69-4a5c-9996-6524ce2d578b",
   "metadata": {
    "language": "python",
    "name": "cell8",
    "codeCollapsed": false
   },
   "outputs": [],
   "source": "Master_3.write.mode(\"overwrite\").save_as_table(\"VESSOPS_D.L20_BDV.SAT_VFM_OCI_MASTER_DATA\")\n\n#updated",
   "execution_count": null
  }
 ]
}